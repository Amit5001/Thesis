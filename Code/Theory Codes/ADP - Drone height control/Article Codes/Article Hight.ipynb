{
 "cells": [
  {
   "cell_type": "code",
   "execution_count": 1,
   "id": "94eec165",
   "metadata": {},
   "outputs": [],
   "source": [
    "import numpy as np\n",
    "import pandas as pd\n",
    "import scipy as sp\n",
    "from scipy.signal import butter, lfilter\n",
    "import os\n",
    "from HelperFunctions import *\n",
    "\n",
    "import matplotlib.pyplot as plt\n",
    "%matplotlib notebook\n"
   ]
  },
  {
   "cell_type": "code",
   "execution_count": 5,
   "id": "14b5c0c2",
   "metadata": {},
   "outputs": [],
   "source": [
    "base_path = os.getcwd()\n",
    "data_path = os.path.join(base_path, 'Data')\n",
    "data_files = os.listdir(data_path)"
   ]
  },
  {
   "cell_type": "markdown",
   "id": "fc93235d",
   "metadata": {},
   "source": [
    "## Here We need to add the following:\n",
    "1. Generating the integral action data\n",
    "2. creating the state vector x ={distance,distance_dot, current, current integral}\n",
    "    The output vector is the pwm for each motor- PWM1, PWM2, PWM3, PWM4\n",
    "3. Need to filter all the data with the same HPF configuration\n",
    "4. Initializing stabalizing controller\n",
    "\n",
    "\n",
    "## Questions-\n",
    "1. Butterworth filter or regular 1st order HPF?\n",
    "2. How we utilize the fact that we have all the PWM values and that they are different? maybe remove the pid addition and take only the throttle?\n"
   ]
  },
  {
   "cell_type": "markdown",
   "id": "80137643",
   "metadata": {},
   "source": [
    "# The Algorithm Starts here:"
   ]
  },
  {
   "cell_type": "markdown",
   "id": "4899f863",
   "metadata": {},
   "source": [
    "Initializing the variables:"
   ]
  },
  {
   "cell_type": "code",
   "execution_count": null,
   "id": "3eb50d29",
   "metadata": {},
   "outputs": [],
   "source": [
    "\n",
    "kron_xx = np.empty((0, np.size(x,0)**2))\n",
    "kron_xu = np.empty((0, np.size(x,0)*np.size(u,0)))\n",
    "delta_x = np.empty((0, np.size(x,0)**2))\n",
    "Ixx = np.empty((0, np.size(x,0)**2)) # Initialize as an empty 2D array with shape (0, 2)\n",
    "Ixu = np.empty((0, np.size(x,0)))\n",
    "\n",
    "l = np.size(x,0)*(np.size(x,0)+1)//2+np.size(x,0)*np.size(u,0) # u is scalar so m=1. we have 2 states, therefore 2 equations. Q is 2x2. defining l this way will help us to set the window of the integrations in order to get a valid dimensions for Ixx and Ixu\n",
    "iterations = 1669  # Number of time steps\n",
    "\n",
    "intr = int(iterations//(l +1)) # defining the interval for the integrations. this interval will give us Ixx and Ixu with the ammount of equations needed. In our case 2 equations."
   ]
  },
  {
   "cell_type": "markdown",
   "id": "605a9542",
   "metadata": {},
   "source": [
    "Generating the Variables needed for the Algorithm"
   ]
  },
  {
   "cell_type": "code",
   "execution_count": null,
   "id": "0c60e5e7",
   "metadata": {},
   "outputs": [],
   "source": [
    "for i in range(intr,iterations, intr):\n",
    "    x_i = x[:,i]\n",
    "    x_i_1 = x[:,i-intr]\n",
    "    delta_xx_i = np.kron(x_i, x_i) - np.kron(x_i_1, x_i_1)\n",
    "    delta_x = np.vstack((delta_x, [delta_xx_i]))\n",
    "\n",
    "    \n",
    "for i in range(0,iterations):\n",
    "    x_i = x[:,i]\n",
    "    u_i = u[i]\n",
    "    kron_xx_i = np.kron(x_i, x_i)\n",
    "    kron_xu_i = np.kron(x_i, u_i)\n",
    "    kron_xx = np.vstack((kron_xx, [kron_xx_i]))\n",
    "    kron_xu = np.vstack((kron_xu, [kron_xu_i]))\n",
    "\n",
    "for i in range(intr,iterations, intr):\n",
    "    window = slice(max(0, i-intr), i+1)  # This defines the time steps t0 to t1 etc.\n",
    "    new_Ixu = np.trapz(kron_xu[window,:], dt[window], axis = 0)\n",
    "    new_Ixx = np.trapz(kron_xx[window,:], dt[window], axis =0)\n",
    "    Ixu = np.vstack((Ixu, [new_Ixu]))\n",
    "    Ixx = np.vstack((Ixx, [new_Ixx]))"
   ]
  },
  {
   "cell_type": "markdown",
   "id": "3d56ba94",
   "metadata": {},
   "source": [
    "# The actual learning algorithm"
   ]
  },
  {
   "cell_type": "code",
   "execution_count": null,
   "id": "4510f3fb",
   "metadata": {},
   "outputs": [],
   "source": [
    "n = np.size(x,0)\n",
    "m = 1\n",
    "Q = np.array([[100, 0], [0, 100]])\n",
    "R_ = np.array([[1]])\n",
    "K_i = K_lqr # starting with a stabilizing control value\n",
    "N_ = create_N_matrix(n)\n",
    "\n",
    "K_adp = np.empty((0, np.size(x,0)))\n",
    "P_adp = []\n",
    "P_i_old = np.zeros_like(Q)\n",
    "\n",
    "norm_Pi = np.array([])\n",
    "\n",
    "for i in range(1,iterations):\n",
    "    # Calculating Q_i:\n",
    "    Q_i = Q + K_i.T @ R_ @ K_i\n",
    "    \n",
    "    # Calculating Y_i:\n",
    "    Y_i = Ixx @ vec(Q_i) # Shai added - in the begining\n",
    "    X_i = np.hstack((-delta_x @ N_, 2* Ixx@np.kron(np.eye(n), K_i.T @ R_) + 2*Ixu @ np.kron(np.eye(n), R_)))\n",
    "    \n",
    "    # Calculating Theta_i:\n",
    "    Theta_i = np.linalg.lstsq(X_i, Y_i, rcond=None)[0]\n",
    "    # Theta_i = np.linalg.inv(X_i.T @ X_i) @ X_i.T @ Y_i  # Using the normal equation for least squares\n",
    "    \n",
    "    \n",
    "    svecP_i = Theta_i[:(n**2-n*m + 1)]\n",
    "    P_i = svec2matrix(svecP_i)\n",
    "    norm_Pi = np.append(norm_Pi, np.linalg.norm(P_i))\n",
    "    \n",
    "    K_i = Theta_i[(n**2-2*m+1):].reshape(K_lqr.shape)\n",
    "\n",
    "    \n",
    "    K_adp = np.vstack((K_adp, K_i))\n",
    "    P_adp.append(P_i)\n",
    "    \n",
    "    if (abs(np.linalg.norm(P_i_old - P_i)) < 0.005) and (np.all(np.linalg.eigvals(P_i) > 0)):\n",
    "        print('Converged')\n",
    "        \n",
    "        break\n",
    "    \n",
    "    P_i_old = P_i"
   ]
  }
 ],
 "metadata": {
  "kernelspec": {
   "display_name": "Thesis",
   "language": "python",
   "name": "python3"
  },
  "language_info": {
   "codemirror_mode": {
    "name": "ipython",
    "version": 3
   },
   "file_extension": ".py",
   "mimetype": "text/x-python",
   "name": "python",
   "nbconvert_exporter": "python",
   "pygments_lexer": "ipython3",
   "version": "3.11.12"
  }
 },
 "nbformat": 4,
 "nbformat_minor": 5
}
