{
 "cells": [
  {
   "metadata": {},
   "cell_type": "markdown",
   "source": [
    "# Basic Code\n",
    "This code is a first test of implementing the Kleinman Alogrithm for the model free controller.\n",
    "\n",
    "This code will try to control the height of a drone."
   ],
   "id": "aab1094e0dae6ac2"
  },
  {
   "cell_type": "code",
   "id": "initial_id",
   "metadata": {
    "collapsed": true,
    "ExecuteTime": {
     "end_time": "2025-05-26T19:27:42.121398Z",
     "start_time": "2025-05-26T19:27:41.162819Z"
    }
   },
   "source": [
    "import numpy as np\n",
    "import matplotlib.pyplot as plt\n",
    "import math\n",
    "import scipy as sp\n",
    "import control as ct\n",
    "import control.matlab as matlab\n",
    "from HelperFunctions import *"
   ],
   "outputs": [],
   "execution_count": 1
  },
  {
   "metadata": {
    "ExecuteTime": {
     "end_time": "2025-05-26T19:27:42.126200Z",
     "start_time": "2025-05-26T19:27:42.122488Z"
    }
   },
   "cell_type": "code",
   "source": [
    "# Define the Space state model. X = [x, x_dot] U = [u*] Y = [x], x = [height], u* = [thrust + gravity]\n",
    "# Gravity applied only to Z double dot\n",
    "\n",
    "A = np.array([[0, 1], [0, 0]])\n",
    "B = np.array([[0], [1]])\n",
    "C = np.array([[1, 0]])\n",
    "D = np.array([[0]])\n",
    "\n",
    "ss_ = ct.ss(A, B, C, D)\n",
    "tf_ = ct.ss2tf(ss_)\n",
    "\n",
    "g = 9.81"
   ],
   "id": "1ee6ef6a484288d3",
   "outputs": [],
   "execution_count": 2
  },
  {
   "metadata": {
    "ExecuteTime": {
     "end_time": "2025-05-26T19:27:42.129256Z",
     "start_time": "2025-05-26T19:27:42.127010Z"
    }
   },
   "cell_type": "code",
   "source": [
    "B_cont=ct.ctrb(A, B)\n",
    "rank = np.linalg.matrix_rank(B_cont)\n",
    "\n",
    "if rank == np.size(A,0):\n",
    "    print(\"The system is controllable\")\n",
    "else:\n",
    "    print(\"The system is not controllable\")"
   ],
   "id": "7fb635c863897b51",
   "outputs": [
    {
     "name": "stdout",
     "output_type": "stream",
     "text": [
      "The system is controllable\n"
     ]
    }
   ],
   "execution_count": 3
  },
  {
   "metadata": {
    "ExecuteTime": {
     "end_time": "2025-05-26T19:27:42.134161Z",
     "start_time": "2025-05-26T19:27:42.130073Z"
    }
   },
   "cell_type": "code",
   "source": [
    "noise_T = np.random.normal(loc=0.0, scale=5, size=1000)\n",
    "random_T = g + noise_T \n",
    "np.median(random_T)"
   ],
   "id": "8bef0b7384f79df9",
   "outputs": [
    {
     "data": {
      "text/plain": [
       "9.871152850740609"
      ]
     },
     "execution_count": 4,
     "metadata": {},
     "output_type": "execute_result"
    }
   ],
   "execution_count": 4
  },
  {
   "metadata": {},
   "cell_type": "markdown",
   "source": [
    "# Optimal control:\n",
    "The closed loop system is defined as:\n",
    "$\\dot{x} = (A-BK)x(t),  x(0) =x_0$\n",
    "\n",
    "The solution of x(t) is:\n",
    "\n",
    "$x(t) = e^{(A-BK)t}x_0$\n",
    "\n",
    "The cost function is defined as:\n",
    "\n",
    "$J = \\int_0^\\infty (x^T Q x + u^T R u)dt$\n",
    "\n",
    "By submiting u=-Kx into the cost function we get:\n",
    "\n",
    "$J = \\int_0^\\infty (x^T (Q + K^T R K) x)dt$\n",
    "\n",
    "By submitting the solution of x(t) into the cost function we get:\n",
    "\n",
    "$J = x_0^T*(\\int_0^\\infty(e^{(A-BK)^Tt}\\cdot(Q+K^TRK)\\cdot e^{(A-BK)t})dt)x_0$\n",
    "\n",
    "Definition: \n",
    "\n",
    "$ P = \\int_0^\\infty(e^{(A-BK)^Tt}\\cdot(Q+K^TRK)\\cdot e^{(A-BK)t})dt$\n",
    "\n",
    "So the cost function is:\n",
    "\n",
    "$J = x_0^T\\cdot P\\cdot x_0$\n",
    "\n",
    "The minimal P can be obraint by solving the Lyapunov equation.\n",
    "The Lyapunov equation for a closed loop system is defined as:\n",
    "\n",
    "$(A-BK)^T P + P(A-BK) + Q - K^TRK= 0$\n",
    "\n",
    "We cant solve this equation because we dont know K. We find K from the Riccati equation.\n",
    "The Riccati equation is defined as:\n",
    "\n",
    "$A^T P + PA - PBR^{-1}B^T P + Q = 0$\n",
    "\n",
    "We can solve this equation for P and then find K from the equation:\n",
    "\n",
    "$K = R^{-1}B^T P$"
   ],
   "id": "1a1947351f2dd507"
  },
  {
   "metadata": {},
   "cell_type": "markdown",
   "source": [
    "# Kleinman Algorithm\n",
    "The Kleinman Algorithm is a method to solve the Riccati equation for a given A, B, Q and R matrix.\n",
    "The algorithm is iterative and starts with a stabilizing control value K.\n",
    "\n",
    "The optimal controller is found by solving the Riccati equation and then finding K from the equation $K = R^{-1}B^T P$\n",
    "\n",
    "This equation is qubic in respect to P. Lyapunov equation in the other hand as linear in respect to P.\n",
    "\n",
    "We can solve iteratively by starting with stabilizing control value K -> Solving Lyapunov equation (P) -> Updating K\n",
    "\n",
    "The algorithm is defined as:\n",
    "\n",
    "1. Start with a stabilizing control value K\n",
    "2. Solve the Lyapunov equation for P\n",
    "3. Update K\n",
    "4. Check if the solution is converging\n",
    "5. If not converging go back to step 2\n",
    "6. If converging the solution is found\n",
    "7. Find the optimal controller K from the equation $K = R^{-1}B^T P$\n",
    "8. The optimal controller is found"
   ],
   "id": "d1924c28b1ebdb78"
  },
  {
   "metadata": {},
   "cell_type": "markdown",
   "source": "## Starting with the basic LQR controller:",
   "id": "400a273d18473e12"
  },
  {
   "metadata": {
    "ExecuteTime": {
     "end_time": "2025-05-26T19:27:42.144395Z",
     "start_time": "2025-05-26T19:27:42.135753Z"
    }
   },
   "cell_type": "code",
   "source": [
    "Q_lqr = np.array([[1, 0], [0, 1]])\n",
    "R_lqr = 1\n",
    "K_lqr, P_lqr, E = matlab.lqr(A, B, Q_lqr, R_lqr)\n",
    "print('Computed Controller based on LQR: K = ', K_lqr)\n",
    "print('Computed P based on LQR: P = ', P_lqr)"
   ],
   "id": "fd14f60a23325673",
   "outputs": [
    {
     "name": "stdout",
     "output_type": "stream",
     "text": [
      "Computed Controller based on LQR: K =  [[1.         1.73205081]]\n",
      "Computed P based on LQR: P =  [[1.73205081 1.        ]\n",
      " [1.         1.73205081]]\n"
     ]
    }
   ],
   "execution_count": 5
  },
  {
   "metadata": {},
   "cell_type": "markdown",
   "source": "## Kleinman Algorithm",
   "id": "b8d1a3e39f1ff9f3"
  },
  {
   "metadata": {
    "ExecuteTime": {
     "end_time": "2025-05-26T19:27:42.146834Z",
     "start_time": "2025-05-26T19:27:42.144980Z"
    }
   },
   "cell_type": "code",
   "source": [
    "Q = np.array([[1, 0], [0, 1]])\n",
    "R = 1\n",
    "R_ = np.array([[1]])\n",
    "# Define the number of iterations\n",
    "iterations = 100\n",
    "\n",
    "# Define the convergence value\n",
    "convergence = 0.01\n",
    "\n",
    "# Define the initial value of P\n",
    "P_kleinman = []\n",
    "P_old = np.zeros_like(A)\n",
    "\n",
    "# Define the initial value of K\n",
    "K_ = 0.1 * K_lqr\n",
    "K_kleinman = []\n"
   ],
   "id": "fbdbc579da362a7f",
   "outputs": [],
   "execution_count": 6
  },
  {
   "metadata": {
    "ExecuteTime": {
     "end_time": "2025-05-26T19:27:42.151859Z",
     "start_time": "2025-05-26T19:27:42.147417Z"
    }
   },
   "cell_type": "code",
   "source": [
    "# Starting the loop:\n",
    "for i in range(iterations):\n",
    "    # Solve the Lyapunov equation of the closed loop system\n",
    "    # Q_bar = Q + K_.T * R * K_\n",
    "    Q_bar = Q + K_.T @ R_ @ K_\n",
    "    A_bar = A - B @ K_\n",
    "    # Need A^T because the function is calculating based on the transpose of what we want.\n",
    "    P_ = matlab.lyap(A_bar.T, Q_bar)\n",
    "    P_kleinman.append(P_)\n",
    "    # Update K\n",
    "    # K_ = R**-1 * B.T @ P_\n",
    "    K_ = np.linalg.inv(R_) @ B.T @ P_\n",
    "    K_kleinman.append(K_)\n",
    "    \n",
    "    # Check if the solution is converging\n",
    "    if abs(np.linalg.det(P_ - P_old)) < convergence:\n",
    "        print(\"converged\")\n",
    "        break\n",
    "    P_old = P_\n"
   ],
   "id": "de47288730982af1",
   "outputs": [
    {
     "name": "stdout",
     "output_type": "stream",
     "text": [
      "converged\n"
     ]
    }
   ],
   "execution_count": 7
  },
  {
   "metadata": {
    "ExecuteTime": {
     "end_time": "2025-05-26T19:27:42.154440Z",
     "start_time": "2025-05-26T19:27:42.152362Z"
    }
   },
   "cell_type": "code",
   "source": [
    "print('Computed Controller based on Kleinman: K = ', K_kleinman[-1])\n",
    "print('Computed P based on Kleinman: P = ', P_kleinman[-1])\n",
    "print('Number of iterations: ', np.size(P_kleinman,0))"
   ],
   "id": "76ef560e62d7c9f6",
   "outputs": [
    {
     "name": "stdout",
     "output_type": "stream",
     "text": [
      "Computed Controller based on Kleinman: K =  [[1.        1.7320548]]\n",
      "Computed P based on Kleinman: P =  [[1.7320548 1.       ]\n",
      " [1.        1.7320548]]\n",
      "Number of iterations:  8\n"
     ]
    }
   ],
   "execution_count": 8
  },
  {
   "metadata": {
    "ExecuteTime": {
     "end_time": "2025-05-26T19:27:42.156428Z",
     "start_time": "2025-05-26T19:27:42.154945Z"
    }
   },
   "cell_type": "code",
   "source": [
    "K_kleinman = np.array(K_kleinman)\n",
    "P_kleinman = np.array(P_kleinman)"
   ],
   "id": "4a3a184efd8f8f92",
   "outputs": [],
   "execution_count": 9
  },
  {
   "metadata": {
    "ExecuteTime": {
     "end_time": "2025-05-26T19:27:42.231906Z",
     "start_time": "2025-05-26T19:27:42.156954Z"
    }
   },
   "cell_type": "code",
   "source": [
    "iterations = np.size(P_kleinman,0)\n",
    "t = np.linspace(0, iterations, iterations)\n",
    "plt.plot(t,K_kleinman[:,0,0], label='K1', color='c')\n",
    "plt.plot(t,K_kleinman[:,0,1], label='K2', color='g')\n",
    "\n",
    "# Adding the LQR controller as horizontal lines:\n",
    "plt.axhline(y=K_lqr[0,0], color='b', linestyle='--', label='K1 LQR')\n",
    "plt.axhline(y=K_lqr[0,1], color='r', linestyle='--', label='K2 LQR')\n",
    "\n",
    "plt.legend()\n"
   ],
   "id": "7144bbb71a2dc0d2",
   "outputs": [
    {
     "data": {
      "text/plain": [
       "<matplotlib.legend.Legend at 0x1684bdd50>"
      ]
     },
     "execution_count": 10,
     "metadata": {},
     "output_type": "execute_result"
    },
    {
     "data": {
      "text/plain": [
       "<Figure size 640x480 with 1 Axes>"
      ],
      "image/png": "[encoded data removed]"
     },
     "metadata": {},
     "output_type": "display_data"
    }
   ],
   "execution_count": 10
  },
  {
   "metadata": {
    "ExecuteTime": {
     "end_time": "2025-05-26T19:27:42.277872Z",
     "start_time": "2025-05-26T19:27:42.232635Z"
    }
   },
   "cell_type": "code",
   "source": [
    "P_norm = np.linalg.det(P_kleinman)\n",
    "\n",
    "plt.plot(t,P_norm, label='P_norm', color='b')\n",
    "plt.legend()"
   ],
   "id": "af4869283b55f3dd",
   "outputs": [
    {
     "data": {
      "text/plain": [
       "<matplotlib.legend.Legend at 0x17837e0d0>"
      ]
     },
     "execution_count": 11,
     "metadata": {},
     "output_type": "execute_result"
    },
    {
     "data": {
      "text/plain": [
       "<Figure size 640x480 with 1 Axes>"
      ],
      "image/png": "[encoded data removed]"
     },
     "metadata": {},
     "output_type": "display_data"
    }
   ],
   "execution_count": 11
  },
  {
   "metadata": {},
   "cell_type": "markdown",
   "source": [
    "# Model Free Case:\n",
    "\n",
    "In this case we dont know the model of the system.\n",
    "Our original system is defined as:\n",
    "\n",
    "$\\dot{x} = Ax + Bu$\n",
    "\n",
    "We can define a new system as:\n",
    "\n",
    "$\\dot{x} = Ax + Bu_i +B(u-u_i)$\n",
    "\n",
    "where $u_i = -K_ix$ is the optimal control input.\n",
    "\n",
    "When calculating the value function based on this model:\n",
    "\n",
    "$V_i(t) = x^T P_i x = \\int_t^\\infty(x^TQx+u_i^TTu_i)dt$\n",
    "\n",
    "After applying the optimal control input we get:\n",
    "\n",
    "$V_i(t) = x^T P_i x = \\int_t^\\infty(x^TQx+(K_ix)^TR(K_ix))dt$\n",
    "\n",
    "$V_i(t) = x^T P_i x = \\int_t^\\infty(x^TQx+x^T(K^TRK)x)dt$\n",
    "\n",
    "From the first equality the derivative of the value function is:\n",
    "\n",
    "$\\dot{V_i}(t) = 2x^T(t)P_i\\dot{x}(t)$\n",
    "\n",
    "Replacing $\\dot{x}$ with the original system we get:\n",
    "\n",
    "$\\dot{V_i}(t) = 2x^T(t)P_i(Ax(t)+Bu_i+B(u-u_i))$\n",
    "\n",
    "With the control input:\n",
    "\n",
    "$\\dot{V_i}(t) = 2x^T(t)P_i(Ax(t)-BK_ix+B(u+K_ix))$\n",
    "\n",
    "Or: \n",
    "\n",
    "$\\dot{V_i}(t) = \\underset{\\text{Scaler}}{\\underbrace{2x^T(t)P_i(A-BK_i)x}}+\\underset{\\text{Scaler}}\\underbrace{{2x^T(t)P_iB(u+K_ix)}}$\n",
    "\n"
   ],
   "id": "2d0242bd76f02430"
  },
  {
   "metadata": {},
   "cell_type": "markdown",
   "source": [
    "We can take the last expression of $\\dot{V_i}(t)$ and rewrite it:\n",
    "\n",
    "$\\dot{V_i}(t) = x^T(t)((A-BK_i)P_i + P_i(A-BK_i))x(t) + 2(u+K_ix)^TB^TP_ix$\n",
    "\n",
    "Using Lyapunov equation:\n",
    "\n",
    "$(A-BK_i)^TP_i + P_i(A-BK_i) + Q K_i^TRK_i= 0$\n",
    "\n",
    "We can rewrite the equation as:\n",
    "\n",
    "$\\dot{V_i}(t) = -x^T(t)(Q+K_i^TRK_i)x(t) 2(u+K_ix)^TB^TP_ix = -x^TQ_ix + 2(u+K_ix)^TB^TP_ix$\n",
    "\n",
    "Where $Q_i = Q + K_i^TRK_i$\n",
    "\n",
    "Now we eliminated A from the equation.\n",
    "\n",
    "Using $ K_{i+1} = R^{-1}B^TP_i$ from kleinman algorithm we get: \n",
    "\n",
    "$B^TP = RK_{i+1}$\n",
    "\n",
    "And the value function:\n",
    "\n",
    "$\\dot{V_i}(t) = -x^TQ_ix + 2(u+K_ix)^TRK_{i+1}x = -x^TQ_ix + 2u^TRK_{i+1}x+2x^TK_i^TRK_{i+1}x$"
   ],
   "id": "699bc27d2464952b"
  },
  {
   "metadata": {},
   "cell_type": "markdown",
   "source": [
    "By integrating both sides we get in the LHS\n",
    "\n",
    "$\\int_t^{t+T} \\dot{V_i}(t)d\\tau = V_i(t+T) - V_i(t) = x^T(t+T)P_ix(t+T) - x^T(t)P_ix(t)$\n",
    "\n",
    "This is the difference in the value function between 2 time steps.\n",
    "\n",
    "In the RHS we get:\n",
    "\n",
    "$\\int_t^{t+T} -x^TQ_ix d\\tau + 2\\int_t^{t+T} u^TRK_{i+1}x d\\tau + 2\\int_t^{t+T} x^TK_i^TRK_{i+1}x d\\tau$\n",
    "\n",
    "The variables here are: $K_{i+1}$ and $P_i$\n",
    "\n",
    "$K_i$ obtained in the last iteration"
   ],
   "id": "c1e1c0ee329f8a0"
  },
  {
   "metadata": {},
   "cell_type": "markdown",
   "source": [
    "In this equation we dont have A or B, the model is not needed.\n",
    "\n",
    "In order to calculate K and P we need data. We need to collect data from the system and calculate the value function.\n",
    "\n",
    "Based on Kronecker product we can calculate the variables K and P.\n",
    "\n",
    "All the calculations of the new equations are in Optimal Control 2 -pages 31,32 \n"
   ],
   "id": "b8b6ee06f46c0d3c"
  },
  {
   "metadata": {},
   "cell_type": "markdown",
   "source": [
    "Along a time period $[t_o, t_f]$ we need to have the following data:\n",
    "\n",
    "the state vector:\n",
    "\n",
    "$X = [x(t_o), x(t_o+T), x(t_o+2T), ..., x(t_f)]$\n",
    "\n",
    "The input vector:\n",
    "\n",
    "$U = [u(t_o), u(t_o+T), u(t_o+2T), ..., u(t_f)]$\n",
    "\n",
    "\\begin{figure}[h]\n",
    "    \\includegraphics[width=0.5\\textwidth]{/Users/amitgedj/Library/CloudStorage/OneDrive-Personal/University/MsC/Thesis/Theory Codes/ADP - Drone height control/Kronecker 1.png}\n",
    "    \\includegraphics[width=0.5\\textwidth]{/Users/amitgedj/Library/CloudStorage/OneDrive-Personal/University/MsC/Thesis/Theory Codes/ADP - Drone height control/Kronecker 2.png}\n",
    "\\end{figure}\n",
    "\n",
    "\n",
    "Where $ Q_i = Q+K_i^TRK_i$"
   ],
   "id": "e0a15b0dcaf07047"
  },
  {
   "metadata": {
    "ExecuteTime": {
     "end_time": "2025-05-26T19:27:42.281177Z",
     "start_time": "2025-05-26T19:27:42.278683Z"
    }
   },
   "cell_type": "code",
   "source": [
    "A = np.array([[0, 1], [0, 0]])\n",
    "B = np.array([[0], [1]])\n",
    "C = np.array([[1, 0]])\n",
    "D = np.array([[0]])\n",
    "\n",
    "ss_ = ct.ss(A, B, C, D)\n",
    "tf_ = ct.ss2tf(ss_)\n",
    "\n",
    "g = 9.81\n",
    "\n"
   ],
   "id": "a9a1c9a412e8d726",
   "outputs": [],
   "execution_count": 12
  },
  {
   "metadata": {
    "ExecuteTime": {
     "end_time": "2025-05-26T19:27:42.283421Z",
     "start_time": "2025-05-26T19:27:42.281635Z"
    }
   },
   "cell_type": "code",
   "source": [
    "# Defining number of iterations:\n",
    "iterations = 1000\n",
    "\n",
    "#defining the inputs for the data collection:\n",
    "T = 0.1\n",
    "t = np.linspace(0, iterations, iterations)\n",
    "u = np.random.normal(loc=0.0, scale=0.5, size=iterations) +9.81 # Might not need to add g because we are working with u* and not u"
   ],
   "id": "6b3e096c9d4ed83b",
   "outputs": [],
   "execution_count": 13
  },
  {
   "metadata": {
    "ExecuteTime": {
     "end_time": "2025-05-26T19:27:42.294273Z",
     "start_time": "2025-05-26T19:27:42.285734Z"
    }
   },
   "cell_type": "code",
   "source": [
    "# finding the state vector for each input:\n",
    "x_dot = np.zeros((2, iterations))\n",
    "x = np.zeros((2, iterations))\n",
    "x_dot[:,0] = np.array([0, 0])\n",
    "x[:,0] = np.array([0, 0])\n",
    "for i in range(1, iterations):\n",
    "    x_dot[:,i] = (A @ x[:,i-1].reshape(-1,1) + B * u[i-1]).flatten()\n",
    "    x[:,i] = x[:,i-1] + x_dot[:,i] * T"
   ],
   "id": "50b6a0c04427e0f7",
   "outputs": [],
   "execution_count": 14
  },
  {
   "metadata": {},
   "cell_type": "markdown",
   "source": [
    "Now we have a series of data. \n",
    "\n",
    "Input U and the state vector x.\n",
    "\n",
    "$x = {z, \\dot{z}}$\n",
    "\n",
    "z calculated based on euler integration"
   ],
   "id": "2b1c135a3d1a4c7f"
  },
  {
   "metadata": {},
   "cell_type": "markdown",
   "source": "Starting the loops for calculating the controller:",
   "id": "1a9631a63cfbf97c"
  },
  {
   "metadata": {
    "ExecuteTime": {
     "end_time": "2025-05-26T19:27:42.297053Z",
     "start_time": "2025-05-26T19:27:42.294842Z"
    }
   },
   "cell_type": "code",
   "source": "(np.size(x,0)**2 + np.size(x,0))//2 + np.size(x,0)",
   "id": "d5d8b536dc1cd89e",
   "outputs": [
    {
     "data": {
      "text/plain": [
       "5"
      ]
     },
     "execution_count": 15,
     "metadata": {},
     "output_type": "execute_result"
    }
   ],
   "execution_count": 15
  },
  {
   "metadata": {
    "ExecuteTime": {
     "end_time": "2025-05-26T19:27:42.319108Z",
     "start_time": "2025-05-26T19:27:42.297530Z"
    }
   },
   "cell_type": "code",
   "source": [
    "kron_xx = np.empty((0, np.size(x,0)**2))\n",
    "kron_xu = np.empty((0, np.size(x,0)))\n",
    "delta_x = np.empty((0, np.size(x,0)**2))\n",
    "Ixx = np.empty((0, np.size(x,0)**2)) # Initialize as an empty 2D array with shape (0, 2)\n",
    "Ixu = np.empty((0, np.size(x,0)))\n",
    "dT = np.arange(0,iterations*T+T,T)\n",
    "l = np.size(x,0)*(np.size(x,0)+1)//2+np.size(x,0)*1 # u is scalar so m=1. we have 2 states, therefore 2 equations. Q is 2x2. defining l this way will help us to set the window of the integrations in order to get a valid dimensions for Ixx and Ixu\n",
    "intr = int(iterations//(l +1)) # defining the interval for the integrations. this interval will give us Ixx and Ixu with the ammount of equations needed. In our case 2 equations.\n",
    "\n",
    "for i in range(intr,iterations, intr):\n",
    "    x_i = x[:,i]\n",
    "    x_i_1 = x[:,i-intr]\n",
    "    delta_xx_i = np.kron(x_i, x_i) - np.kron(x_i_1, x_i_1)\n",
    "    delta_x = np.vstack((delta_x, [delta_xx_i]))\n",
    "\n",
    "    \n",
    "for i in range(0,iterations):\n",
    "    x_i = x[:,i]\n",
    "    u_i = u[i]\n",
    "    kron_xx_i = np.kron(x_i, x_i)\n",
    "    kron_xu_i = np.kron(x_i, u_i)\n",
    "    kron_xx = np.vstack((kron_xx, [kron_xx_i]))\n",
    "    kron_xu = np.vstack((kron_xu, [kron_xu_i]))\n",
    "\n",
    "for i in range(intr,iterations, intr):\n",
    "    window = slice(max(0, i-intr), i+1)  # This defines the time steps t0 to t1 etc.\n",
    "    new_Ixu = np.trapz(kron_xu[window,:], dT[window], axis = 0)\n",
    "    new_Ixx = np.trapz(kron_xx[window,:], dT[window], axis =0)\n",
    "    Ixu = np.vstack((Ixu, [new_Ixu]))\n",
    "    Ixx = np.vstack((Ixx, [new_Ixx]))"
   ],
   "id": "fc5ed9826f783c84",
   "outputs": [],
   "execution_count": 16
  },
  {
   "metadata": {},
   "cell_type": "markdown",
   "source": [
    "given the dimension of P is 2x2, the N matrix is $n^2 \\times (n^2+n)/2$\n",
    "\n",
    "in this case n = 2, therfore N is 4x3"
   ],
   "id": "d5394b3480cd6563"
  },
  {
   "metadata": {},
   "cell_type": "markdown",
   "source": [
    "Now that we have the matrices $\\delta_xx, Ixx, Ixu$ , and we have the ability to calculate the matrix N, vec and svec, we can use the equation\n",
    "\n",
    "$ X_i \\cdot \\Theta_i = Y_i $"
   ],
   "id": "b7e44c9515694739"
  },
  {
   "metadata": {
    "ExecuteTime": {
     "end_time": "2025-05-26T19:27:42.324256Z",
     "start_time": "2025-05-26T19:27:42.319650Z"
    }
   },
   "cell_type": "code",
   "source": [
    "iterations = 1000\n",
    "n = np.size(x,0)\n",
    "m = 1\n",
    "Q = np.array([[1, 0], [0, 1]])\n",
    "R_ = np.array([[1]])\n",
    "K_i = 0.2 * K_lqr # starting with a stabilizing control value\n",
    "N_ = create_N_matrix(n)\n",
    "\n",
    "K_adp = np.empty((0, np.size(x,0)))\n",
    "P_adp = []\n",
    "P_i_old = np.zeros_like(Q)\n",
    "\n",
    "norm_Pi = np.array([])\n",
    "\n",
    "for i in range(1,iterations):\n",
    "    # Calculating Q_i:\n",
    "    Q_i = Q + K_i.T @ R_ @ K_i\n",
    "    \n",
    "    # Calculating Y_i:\n",
    "    Y_i = -Ixx @ vec(Q_i) # Shai added - in the begining\n",
    "    X_i = np.hstack((delta_x @ N_, -2* Ixx@np.kron(np.eye(n), K_i.T @ R_) -2*Ixu @ np.kron(np.eye(n), R_)))\n",
    "    \n",
    "    # Calculating Theta_i:\n",
    "    Theta_i = np.linalg.lstsq(X_i, Y_i, rcond=None)[0]\n",
    "    \n",
    "    vecP_i = N_ @ Theta_i[:(n**2-n*m + 1)]\n",
    "    P_i = vec2matrix(vecP_i)\n",
    "    norm_Pi = np.append(norm_Pi, np.linalg.norm(P_i))\n",
    "    \n",
    "    K_i = Theta_i[(n**2-2*m+1):].reshape(K_lqr.shape)\n",
    "\n",
    "    \n",
    "    K_adp = np.vstack((K_adp, K_i))\n",
    "    P_adp.append(P_i)\n",
    "    \n",
    "    if abs(np.linalg.norm(P_i_old - P_i)) < 0.01:\n",
    "        print('Converged')\n",
    "        \n",
    "        break\n",
    "    \n",
    "    P_i_old = P_i\n",
    "    "
   ],
   "id": "1eb2228d9eb83cfd",
   "outputs": [
    {
     "name": "stdout",
     "output_type": "stream",
     "text": [
      "Converged\n"
     ]
    }
   ],
   "execution_count": 17
  },
  {
   "metadata": {
    "ExecuteTime": {
     "end_time": "2025-05-26T19:27:42.326739Z",
     "start_time": "2025-05-26T19:27:42.324709Z"
    }
   },
   "cell_type": "code",
   "source": "K_adp",
   "id": "896e96843007a89c",
   "outputs": [
    {
     "data": {
      "text/plain": [
       "array([[ 2.60010748, 13.03391331],\n",
       "       [ 1.49235827,  6.73419063],\n",
       "       [ 1.08122514,  3.69332231],\n",
       "       [ 1.00305812,  2.40075166],\n",
       "       [ 1.00001226,  2.04304465],\n",
       "       [ 1.00000761,  2.01058893],\n",
       "       [ 1.00000761,  2.01030316]])"
      ]
     },
     "execution_count": 18,
     "metadata": {},
     "output_type": "execute_result"
    }
   ],
   "execution_count": 18
  },
  {
   "metadata": {
    "ExecuteTime": {
     "end_time": "2025-05-26T19:27:42.329004Z",
     "start_time": "2025-05-26T19:27:42.327238Z"
    }
   },
   "cell_type": "code",
   "source": "K_lqr",
   "id": "24e9b8a5d043335f",
   "outputs": [
    {
     "data": {
      "text/plain": [
       "array([[1.        , 1.73205081]])"
      ]
     },
     "execution_count": 19,
     "metadata": {},
     "output_type": "execute_result"
    }
   ],
   "execution_count": 19
  },
  {
   "metadata": {
    "ExecuteTime": {
     "end_time": "2025-05-26T19:27:42.484348Z",
     "start_time": "2025-05-26T19:27:42.329500Z"
    }
   },
   "cell_type": "code",
   "source": [
    "# Plotting the results:\n",
    "plt.figure(figsize=(16,6))\n",
    "iterations = np.size(P_adp,0)\n",
    "t = np.linspace(0, iterations, iterations)\n",
    "plt.plot(t,K_adp[:,0], label='K1', color='c')\n",
    "plt.plot(t,K_adp[:,1], label='K2', color='g')\n",
    "\n",
    "# Adding the LQR controller as horizontal lines:\n",
    "plt.axhline(y=K_lqr[0,0], color='b', linestyle='--', label='K1 LQR')\n",
    "plt.axhline(y=K_lqr[0,1], color='r', linestyle='--', label='K2 LQR')\n",
    "\n",
    "# Adding the Kleinman controller as horizontal lines:\n",
    "plt.axhline(y=K_kleinman[-1][0,0], color='y', linestyle='-.', label='K1 Kleinman')\n",
    "plt.axhline(y=K_kleinman[-1][0,1], color='m', linestyle='-.', label='K2 Kleinman')\n",
    "\n",
    "plt.legend()\n",
    "plt.title('Controller values')\n",
    "plt.xlabel('Iterations')\n",
    "plt.ylabel('Controller values')\n",
    "\n",
    "plt.figure(figsize=(16,6))\n",
    "\n",
    "P_adp = np.array(P_adp)\n",
    "iterations = np.size(P_adp,0)\n",
    "t = np.linspace(0, iterations, iterations)\n",
    "plt.plot(t,norm_Pi, label='Norm P', color='b')\n",
    "\n",
    "# Adding the Kleinman controller as horizontal lines:\n",
    "plt.axhline(y=np.linalg.norm(P_kleinman[-1]), color='y', linestyle='-.', label='Norm P Kleinman')\n",
    "plt.axhline(y=np.linalg.norm(P_lqr), color='r', linestyle='--', label='Norm P LQR')\n",
    "\n",
    "plt.legend()\n",
    "plt.title('Norm of P')\n",
    "plt.xlabel('Iterations')\n",
    "plt.ylabel('Norm of P')\n",
    "\n"
   ],
   "id": "9c12a736357e0173",
   "outputs": [
    {
     "data": {
      "text/plain": [
       "Text(0, 0.5, 'Norm of P')"
      ]
     },
     "execution_count": 20,
     "metadata": {},
     "output_type": "execute_result"
    },
    {
     "data": {
      "text/plain": [
       "<Figure size 1600x600 with 1 Axes>"
      ],
      "image/png": "[encoded data removed]"
     },
     "metadata": {},
     "output_type": "display_data"
    },
    {
     "data": {
      "text/plain": [
       "<Figure size 1600x600 with 1 Axes>"
      ],
      "image/png": "[encoded data removed]"
     },
     "metadata": {},
     "output_type": "display_data"
    }
   ],
   "execution_count": 20
  },
  {
   "metadata": {},
   "cell_type": "markdown",
   "source": [
    "# Ask Shai:\n",
    "\n",
    "1. Is there no weight on the input in the value function? I see only X in $Q_i$ and not $u_i$.\n",
    "2. Why specifically Yi = -Yi? and Xi = -Xi? Anything other that that ruins the algorithm."
   ],
   "id": "6629050b8205a5d"
  }
 ],
 "metadata": {
  "kernelspec": {
   "display_name": "Python 3",
   "language": "python",
   "name": "python3"
  },
  "language_info": {
   "codemirror_mode": {
    "name": "ipython",
    "version": 2
   },
   "file_extension": ".py",
   "mimetype": "text/x-python",
   "name": "python",
   "nbconvert_exporter": "python",
   "pygments_lexer": "ipython2",
   "version": "2.7.6"
  }
 },
 "nbformat": 4,
 "nbformat_minor": 5
}
